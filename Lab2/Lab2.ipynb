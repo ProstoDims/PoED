{
 "cells": [
  {
   "cell_type": "markdown",
   "metadata": {},
   "source": [
    "# Шаг 1\n",
    "### Подключение необходимых библиотек"
   ]
  },
  {
   "cell_type": "code",
   "execution_count": 1,
   "metadata": {},
   "outputs": [],
   "source": [
    "import math\n",
    "import pandas as pd \n",
    "import numpy as np\n",
    "import matplotlib.pyplot as plt\n",
    "from pprint import pprint\n",
    "from scipy.special import comb, gamma\n",
    "import scipy.stats as stats\n"
   ]
  },
  {
   "cell_type": "markdown",
   "metadata": {},
   "source": [
    "# Шаг 2\n",
    "### Функции для генерации случайных данных раличных распределений"
   ]
  },
  {
   "cell_type": "code",
   "execution_count": 2,
   "metadata": {},
   "outputs": [
    {
     "name": "stdout",
     "output_type": "stream",
     "text": [
      "uniform\n",
      "[9.96183053 7.95613252 9.36564681 9.60968954 8.17325442 8.31364562\n",
      " 8.11824671 7.32086079 8.43689636 7.72405644 7.77143575 7.55419467\n",
      " 7.58159365 9.44148301 8.26895256 7.76776152 8.77270856 8.81281689\n",
      " 8.94057408 9.73406914]\n"
     ]
    }
   ],
   "source": [
    "def dataset_generator(name, seed, size):\n",
    "    rnd_gen = np.random.default_rng(seed)\n",
    "    # Геометническое распределение\n",
    "    if (name == 'geometric'):\n",
    "        p = rnd_gen.random()\n",
    "        return name, rnd_gen.geometric(p, size=size)\n",
    "    # Биномиальное распределение\n",
    "    elif (name == 'binomial'):\n",
    "        n = rnd_gen.integers(1, 1000)\n",
    "        p = rnd_gen.random()\n",
    "        return name, rnd_gen.binomial(n, p, size=size)\n",
    "    # Распределение Пуассона\n",
    "    elif (name == 'poisson'):\n",
    "        expected_value = rnd_gen.integers(100)\n",
    "        return name, rnd_gen.poisson(expected_value, size=size)\n",
    "    # Равномерное распределение\n",
    "    elif (name == 'uniform'):\n",
    "        a = rnd_gen.integers(10)\n",
    "        b = a + rnd_gen.integers(1, 10)\n",
    "        return name, rnd_gen.uniform(a, b, size=size)\n",
    "    # Нормальное распределение\n",
    "    elif (name == 'normal'):\n",
    "        expected_value = rnd_gen.integers(-10, 10)\n",
    "        # Среднеквадратичное отклонение\n",
    "        standart_deviation = rnd_gen.integers(1, 100)\n",
    "        return name, rnd_gen.normal(expected_value, standart_deviation, size=size)\n",
    "    # Экспоненциальное распределение\n",
    "    elif (name == 'exponential'):\n",
    "        expected_value = rnd_gen.integers(-10, 10)\n",
    "        return name, rnd_gen.exponential(expected_value, size=size)\n",
    "\n",
    "    \n",
    "    \n",
    "name, data = dataset_generator('uniform', seed=8, size=20)\n",
    "print(name)\n",
    "print(data)"
   ]
  }
 ],
 "metadata": {
  "kernelspec": {
   "display_name": ".venv",
   "language": "python",
   "name": "python3"
  },
  "language_info": {
   "codemirror_mode": {
    "name": "ipython",
    "version": 3
   },
   "file_extension": ".py",
   "mimetype": "text/x-python",
   "name": "python",
   "nbconvert_exporter": "python",
   "pygments_lexer": "ipython3",
   "version": "3.12.3"
  }
 },
 "nbformat": 4,
 "nbformat_minor": 2
}
