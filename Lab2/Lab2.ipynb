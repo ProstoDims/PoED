{
 "cells": [
  {
   "cell_type": "markdown",
   "metadata": {},
   "source": [
    "# Шаг 1\n",
    "### Подключение необходимых библиотек"
   ]
  },
  {
   "cell_type": "code",
   "execution_count": 1,
   "metadata": {},
   "outputs": [],
   "source": [
    "import math\n",
    "import pandas as pd \n",
    "import numpy as np\n",
    "import matplotlib.pyplot as plt\n",
    "from pprint import pprint\n",
    "from scipy.special import comb, gamma\n",
    "import scipy.stats as stats\n"
   ]
  },
  {
   "cell_type": "markdown",
   "metadata": {},
   "source": [
    "# Шаг 2\n",
    "### Функции для генерации случайных данных раличных распределений"
   ]
  },
  {
   "cell_type": "code",
   "execution_count": 2,
   "metadata": {},
   "outputs": [
    {
     "name": "stdout",
     "output_type": "stream",
     "text": [
      "uniform\n",
      "[9.96183053 7.95613252 9.36564681 9.60968954 8.17325442 8.31364562\n",
      " 8.11824671 7.32086079 8.43689636 7.72405644 7.77143575 7.55419467\n",
      " 7.58159365 9.44148301 8.26895256 7.76776152 8.77270856 8.81281689\n",
      " 8.94057408 9.73406914]\n"
     ]
    }
   ],
   "source": [
    "def dataset_generator(name, seed, size):\n",
    "    rnd_gen = np.random.default_rng(seed)\n",
    "    # Геометническое распределение\n",
    "    if (name == 'geometric'):\n",
    "        p = rnd_gen.random()\n",
    "        return name, rnd_gen.geometric(p, size=size)\n",
    "    # Биномиальное распределение\n",
    "    elif (name == 'binomial'):\n",
    "        n = rnd_gen.integers(1, 1000)\n",
    "        p = rnd_gen.random()\n",
    "        return name, rnd_gen.binomial(n, p, size=size)\n",
    "    # Распределение Пуассона\n",
    "    elif (name == 'poisson'):\n",
    "        expected_value = rnd_gen.integers(100)\n",
    "        return name, rnd_gen.poisson(expected_value, size=size)\n",
    "    # Равномерное распределение\n",
    "    elif (name == 'uniform'):\n",
    "        a = rnd_gen.integers(10)\n",
    "        b = a + rnd_gen.integers(1, 10)\n",
    "        return name, rnd_gen.uniform(a, b, size=size)\n",
    "    # Нормальное распределение\n",
    "    elif (name == 'normal'):\n",
    "        expected_value = rnd_gen.integers(-10, 10)\n",
    "        # Среднеквадратичное отклонение\n",
    "        standart_deviation = rnd_gen.integers(1, 100)\n",
    "        return name, rnd_gen.normal(expected_value, standart_deviation, size=size)\n",
    "    # Экспоненциальное распределение\n",
    "    elif (name == 'exponential'):\n",
    "        expected_value = rnd_gen.integers(-10, 10)\n",
    "        return name, rnd_gen.exponential(expected_value, size=size)\n",
    "\n",
    "    \n",
    "    \n",
    "name, data = dataset_generator('uniform', seed=8, size=20)\n",
    "print(name)\n",
    "print(data)"
   ]
  },
  {
   "cell_type": "markdown",
   "metadata": {},
   "source": [
    "# Шаг 3\n",
    "### Функции плотности распределения известных распределений"
   ]
  },
  {
   "cell_type": "code",
   "execution_count": 3,
   "metadata": {},
   "outputs": [],
   "source": [
    "def normal_distribution(mean: float, variance: float, deviation: float):    \n",
    "    return lambda x: 1 / (deviation * np.sqrt(2 * np.pi)) * np.exp(-(x - mean) ** 2 / (2 * variance)), 2\n",
    "\n",
    "def exponential_distribution(mean: float):\n",
    "    intensity = 1 / mean\n",
    "    if intensity <= 0:\n",
    "        return None\n",
    "    else:\n",
    "        return lambda x: intensity * math.exp(-intensity * x) if x >= 0 else 0, 1\n",
    "\n",
    "def uniform_distribution(mean: float, variance: float):\n",
    "    b = (3 * variance) ** 0.5 + mean\n",
    "    a = 2 * mean - b   \n",
    "    return lambda x: 1 / (b - a) if a <= x <= b else 0, 2 \n",
    "\n",
    "def geometric_distribution(mean: float):\n",
    "    p = 1 / mean\n",
    "    if p > 1 or p <= 0:\n",
    "        return None\n",
    "    else:\n",
    "        q = 1 - p\n",
    "        return lambda x: q ** x * p if x >= 0 else 0, 3\n",
    "\n",
    "def binomial_distribution(mean: float, n: int):\n",
    "    p = mean / n\n",
    "    if p > 1 or p < 0 or n < 0:\n",
    "        return None\n",
    "    else:\n",
    "        return lambda x: comb(n, x) * (p ** x) * ((1 - p) ** (n - x)) if x >= 0 else 0, 2\n",
    "\n",
    "def poisson_distribution(mean: float):\n",
    "    return lambda x: math.exp(-mean) * (mean ** x) / gamma(x + 1) if x >= 0 else 0, 1"
   ]
  },
  {
   "cell_type": "markdown",
   "metadata": {},
   "source": [
    "# Шаг 4\n",
    "### Функция для разделения наблюдаемых значений на разряды\n",
    "### Вовращает массив, в котором каждый элемент содержит данные разряда и среднеей"
   ]
  },
  {
   "cell_type": "code",
   "execution_count": 4,
   "metadata": {},
   "outputs": [
    {
     "name": "stdout",
     "output_type": "stream",
     "text": [
      "([[[0, 1, 1, 1], 0.5, 0.25], [[2, 3, 3], 2.5, 0.1875], [[4, 5], 4.5, 0.125], [[6, 7], 6.5, 0.125], [[8, 9], 8.5, 0.125], [[10, 11], 10.5, 0.125], [[12], 12.0, 0.0625]], 2.0)\n"
     ]
    }
   ],
   "source": [
    "def split_into_intervals(lst, bins_count):\n",
    "    if len(lst) == 0:\n",
    "        return []\n",
    "\n",
    "    sorted_lst = sorted(lst)\n",
    "    \n",
    "    res = []\n",
    "\n",
    "    interval_len = (sorted_lst[-1]-sorted_lst[0]) / bins_count\n",
    "    counter = sorted_lst[0]\n",
    "    \n",
    "    for i in sorted_lst: \n",
    "        if i >= counter:\n",
    "            while counter <= i:      \n",
    "                counter += interval_len\n",
    "\n",
    "            res.append([[], 0, 0])\n",
    "            \n",
    "        res[-1][0].append(i)\n",
    "        res[-1][1] += i\n",
    "    \n",
    "    for i in res:\n",
    "        i[1] = ((i[0][0] + i[0][-1]) / 2) if len(i[0]) else 0\n",
    "        i[2] = len(i[0]) / len(lst)\n",
    "    \n",
    "    return (res, interval_len)\n",
    "\n",
    "print(split_into_intervals([0, 1, 1, 1, 7, 2, 8, 3, 3, 9, 4, 10, 5, 11, 6, 12], 6))"
   ]
  },
  {
   "cell_type": "markdown",
   "metadata": {},
   "source": [
    "# Шаг 5\n",
    "### Функция для получения мат ожидания, дисперсии и среднего отклонения"
   ]
  },
  {
   "cell_type": "code",
   "execution_count": 5,
   "metadata": {},
   "outputs": [],
   "source": [
    "def get_characteristics(intervals):\n",
    "    expected_val = sum(x * p for _, x, p in intervals)\n",
    "    variance = sum((x - expected_val)**2 * p for _, x, p in intervals)\n",
    "    deviation = math.sqrt(variance)\n",
    "\n",
    "    return expected_val, variance, deviation"
   ]
  }
 ],
 "metadata": {
  "kernelspec": {
   "display_name": ".venv",
   "language": "python",
   "name": "python3"
  },
  "language_info": {
   "codemirror_mode": {
    "name": "ipython",
    "version": 3
   },
   "file_extension": ".py",
   "mimetype": "text/x-python",
   "name": "python",
   "nbconvert_exporter": "python",
   "pygments_lexer": "ipython3",
   "version": "3.12.3"
  }
 },
 "nbformat": 4,
 "nbformat_minor": 2
}
