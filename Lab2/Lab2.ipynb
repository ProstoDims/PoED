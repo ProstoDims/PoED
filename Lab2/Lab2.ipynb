{
 "cells": [
  {
   "cell_type": "markdown",
   "metadata": {},
   "source": [
    "# Шаг 1\n",
    "### Подключение необходимых библиотек"
   ]
  },
  {
   "cell_type": "code",
   "execution_count": 7,
   "metadata": {},
   "outputs": [],
   "source": [
    "import math\n",
    "import pandas as pd \n",
    "import numpy as np\n",
    "import matplotlib.pyplot as plt\n",
    "from pprint import pprint\n",
    "from scipy.special import comb, gamma\n",
    "import scipy.stats as stats\n"
   ]
  },
  {
   "cell_type": "markdown",
   "metadata": {},
   "source": [
    "# Шаг 2\n",
    "### Функции для генерации случайных данных раличных распределений"
   ]
  },
  {
   "cell_type": "code",
   "execution_count": 8,
   "metadata": {},
   "outputs": [
    {
     "name": "stdout",
     "output_type": "stream",
     "text": [
      "uniform\n",
      "[9.96183053 7.95613252 9.36564681 9.60968954 8.17325442 8.31364562\n",
      " 8.11824671 7.32086079 8.43689636 7.72405644 7.77143575 7.55419467\n",
      " 7.58159365 9.44148301 8.26895256 7.76776152 8.77270856 8.81281689\n",
      " 8.94057408 9.73406914]\n"
     ]
    }
   ],
   "source": [
    "def dataset_generator(name, seed, size):\n",
    "    rnd_gen = np.random.default_rng(seed)\n",
    "    # Геометническое распределение\n",
    "    if (name == 'geometric'):\n",
    "        p = rnd_gen.random()\n",
    "        return name, rnd_gen.geometric(p, size=size)\n",
    "    # Биномиальное распределение\n",
    "    elif (name == 'binomial'):\n",
    "        n = rnd_gen.integers(1, 1000)\n",
    "        p = rnd_gen.random()\n",
    "        return name, rnd_gen.binomial(n, p, size=size)\n",
    "    # Распределение Пуассона\n",
    "    elif (name == 'poisson'):\n",
    "        expected_value = rnd_gen.integers(100)\n",
    "        return name, rnd_gen.poisson(expected_value, size=size)\n",
    "    # Равномерное распределение\n",
    "    elif (name == 'uniform'):\n",
    "        a = rnd_gen.integers(10)\n",
    "        b = a + rnd_gen.integers(1, 10)\n",
    "        return name, rnd_gen.uniform(a, b, size=size)\n",
    "    # Нормальное распределение\n",
    "    elif (name == 'normal'):\n",
    "        expected_value = rnd_gen.integers(-10, 10)\n",
    "        # Среднеквадратичное отклонение\n",
    "        standart_deviation = rnd_gen.integers(1, 100)\n",
    "        return name, rnd_gen.normal(expected_value, standart_deviation, size=size)\n",
    "    # Экспоненциальное распределение\n",
    "    elif (name == 'exponential'):\n",
    "        expected_value = rnd_gen.integers(-10, 10)\n",
    "        return name, rnd_gen.exponential(expected_value, size=size)\n",
    "\n",
    "    \n",
    "    \n",
    "name, data = dataset_generator('uniform', seed=8, size=20)\n",
    "print(name)\n",
    "print(data)"
   ]
  },
  {
   "cell_type": "markdown",
   "metadata": {},
   "source": [
    "# Шаг 3\n",
    "### Функции плотности распределения известных распределений"
   ]
  },
  {
   "cell_type": "code",
   "execution_count": 9,
   "metadata": {},
   "outputs": [],
   "source": [
    "def normal_distribution(mean: float, variance: float, deviation: float):    \n",
    "    return lambda x: 1 / (deviation * np.sqrt(2 * np.pi)) * np.exp(-(x - mean) ** 2 / (2 * variance)), 2\n",
    "\n",
    "def exponential_distribution(mean: float):\n",
    "    intensity = 1 / mean\n",
    "    if intensity <= 0:\n",
    "        return None\n",
    "    else:\n",
    "        return lambda x: intensity * math.exp(-intensity * x) if x >= 0 else 0, 1\n",
    "\n",
    "def uniform_distribution(mean: float, variance: float):\n",
    "    b = (3 * variance) ** 0.5 + mean\n",
    "    a = 2 * mean - b   \n",
    "    return lambda x: 1 / (b - a) if a <= x <= b else 0, 2 \n",
    "\n",
    "def geometric_distribution(mean: float):\n",
    "    p = 1 / mean\n",
    "    if p > 1 or p <= 0:\n",
    "        return None\n",
    "    else:\n",
    "        q = 1 - p\n",
    "        return lambda x: q ** x * p if x >= 0 else 0, 3\n",
    "\n",
    "def binomial_distribution(mean: float, n: int):\n",
    "    p = mean / n\n",
    "    if p > 1 or p < 0 or n < 0:\n",
    "        return None\n",
    "    else:\n",
    "        return lambda x: comb(n, x) * (p ** x) * ((1 - p) ** (n - x)) if x >= 0 else 0, 2\n",
    "\n",
    "def poisson_distribution(mean: float):\n",
    "    return lambda x: math.exp(-mean) * (mean ** x) / gamma(x + 1) if x >= 0 else 0, 1"
   ]
  },
  {
   "cell_type": "markdown",
   "metadata": {},
   "source": [
    "# Шаг 4\n",
    "### Функция для разделения наблюдаемых значений на разряды\n",
    "### Вовращает массив, в котором каждый элемент содержит данные разряда и среднеей"
   ]
  },
  {
   "cell_type": "code",
   "execution_count": 10,
   "metadata": {},
   "outputs": [
    {
     "name": "stdout",
     "output_type": "stream",
     "text": [
      "([[[0, 1, 1, 1], 0.5, 0.25], [[2, 3, 3], 2.5, 0.1875], [[4, 5], 4.5, 0.125], [[6, 7], 6.5, 0.125], [[8, 9], 8.5, 0.125], [[10, 11], 10.5, 0.125], [[12], 12.0, 0.0625]], 2.0)\n"
     ]
    }
   ],
   "source": [
    "def split_into_intervals(lst, bins_count):\n",
    "    if len(lst) == 0:\n",
    "        return []\n",
    "\n",
    "    sorted_lst = sorted(lst)\n",
    "    \n",
    "    res = []\n",
    "\n",
    "    interval_len = (sorted_lst[-1]-sorted_lst[0]) / bins_count\n",
    "    counter = sorted_lst[0]\n",
    "    \n",
    "    for i in sorted_lst: \n",
    "        if i >= counter:\n",
    "            while counter <= i:      \n",
    "                counter += interval_len\n",
    "\n",
    "            res.append([[], 0, 0])\n",
    "            \n",
    "        res[-1][0].append(i)\n",
    "        res[-1][1] += i\n",
    "    \n",
    "    for i in res:\n",
    "        i[1] = ((i[0][0] + i[0][-1]) / 2) if len(i[0]) else 0\n",
    "        i[2] = len(i[0]) / len(lst)\n",
    "    \n",
    "    return (res, interval_len)\n",
    "\n",
    "print(split_into_intervals([0, 1, 1, 1, 7, 2, 8, 3, 3, 9, 4, 10, 5, 11, 6, 12], 6))"
   ]
  },
  {
   "cell_type": "markdown",
   "metadata": {},
   "source": [
    "# Шаг 5\n",
    "### Функция для получения мат ожидания, дисперсии и среднего отклонения"
   ]
  },
  {
   "cell_type": "code",
   "execution_count": 11,
   "metadata": {},
   "outputs": [],
   "source": [
    "def get_characteristics(intervals):\n",
    "    expected_val = sum(x * p for _, x, p in intervals)\n",
    "    variance = sum((x - expected_val)**2 * p for _, x, p in intervals)\n",
    "    deviation = math.sqrt(variance)\n",
    "\n",
    "    return expected_val, variance, deviation"
   ]
  },
  {
   "cell_type": "markdown",
   "metadata": {},
   "source": [
    "# Шаг 6\n",
    "### Проверка критерием Пирсона\n",
    "### Если p весьма мало, то гипотеза отвергается"
   ]
  },
  {
   "cell_type": "code",
   "execution_count": 12,
   "metadata": {},
   "outputs": [],
   "source": [
    "def pearson(intervals, density_func, k, l):\n",
    "    r = len(intervals) - k - 1\n",
    "    chi_2 = 0\n",
    "\n",
    "    for interval in intervals:\n",
    "        x = interval[1]\n",
    "        m = len(interval[0])\n",
    "        p = density_func(x) * l\n",
    "        #print('p* =', interval[2])\n",
    "        #print('p =', p)\n",
    "        #print(m, n*p)\n",
    "        if (p == 0):\n",
    "            chi_2 += (interval[2] - p) ** 2 / 1e-10\n",
    "        else:\n",
    "            chi_2 += (interval[2] - p) ** 2 / p\n",
    "        #chi_2 += (m - n * p)**2 / (n * p)\n",
    "        #print((m - n * p)**2 / (n * p))\n",
    "        #print('minus', (interval[2] - p) ** 2 / p)\n",
    "        \n",
    "    \n",
    "    chi_2 = chi_2 * len(intervals)\n",
    "    p_val = 1 - stats.chi2.cdf(chi_2, df=r)\n",
    "\n",
    "    print('chi =', stats.chi2.cdf(chi_2, df=r))\n",
    "\n",
    "    return chi_2, p_val"
   ]
  },
  {
   "cell_type": "markdown",
   "metadata": {},
   "source": [
    "# Шаг 7\n",
    "### Проверка критерием Колмогорова"
   ]
  },
  {
   "cell_type": "code",
   "execution_count": 13,
   "metadata": {},
   "outputs": [],
   "source": [
    "def get_p(lmbda: float):\n",
    "    P_TABLE = {0.0: 1.000, 0.1: 1.000, 0.2: 1.000, 0.3: 1.000, 0.4: 0.997,\n",
    "            0.5: 0.964, 0.6: 0.864, 0.7: 0.711, 0.8: 0.544, 0.9: 0.393,\n",
    "            1.0: 0.270, 1.1: 0.178, 1.2: 0.112, 1.3: 0.068, 1.4: 0.040,\n",
    "            1.5: 0.022, 1.6: 0.012, 1.7: 0.006, 1.8: 0.003, 1.9: 0.002,\n",
    "            2.0: 0.001, 3.0: 0.000}\n",
    "    \n",
    "    closest_key = min(P_TABLE.keys(), key=lambda x: abs(x - lmbda))\n",
    "    return P_TABLE[closest_key]\n",
    "\n",
    "def kolmogorov_criterion(intervals, density_func, lenght):\n",
    "    x, y = [], [] \n",
    "    for interval in intervals:\n",
    "        p = interval[2]\n",
    "        if len(y) == 0:\n",
    "            y.append(p)\n",
    "        else:\n",
    "            y.append(y[-1] + p)\n",
    "        x.append(min(interval[0]))\n",
    "    \n",
    "    t_x, t_y = x.copy(), []\n",
    "    for interval in t_x:\n",
    "        p = density_func(interval + lenght / 2) * lenght\n",
    "        if len(t_y) == 0:\n",
    "            t_y.append(p)\n",
    "        else:\n",
    "            t_y.append(t_y[-1] + p)        \n",
    "            \n",
    "    t_y = [t_val / t_y[-1] for t_val in t_y]\n",
    "    #print(x)\n",
    "    #print(y)\n",
    "    #print(t_x)\n",
    "    #print(t_y)\n",
    "    plt.plot(x, y, color='mediumblue')\n",
    "    plt.plot(t_x, t_y, color='hotpink')\n",
    "    plt.title('Kolmogorov')\n",
    "    plt.show()    \n",
    "    #print(y)\n",
    "    #print(t_y)\n",
    "    #print(max([abs(val - t_val) for val, t_val in zip(y, t_y)]))\n",
    "    D = max([abs(val - t_val) for val, t_val in zip(y, t_y)])\n",
    "    lmbda =  len(intervals) ** 0.5 * D\n",
    "    p = get_p(lmbda)\n",
    "    \n",
    "    return lmbda, p"
   ]
  },
  {
   "cell_type": "markdown",
   "metadata": {},
   "source": [
    "# Шаг 7\n",
    "### Тесты"
   ]
  },
  {
   "cell_type": "code",
   "execution_count": 14,
   "metadata": {},
   "outputs": [
    {
     "name": "stdout",
     "output_type": "stream",
     "text": [
      "8.500270476922282 0.08296079341772367 0.28802915376350996 0.06666655368469468 2\n"
     ]
    }
   ],
   "source": [
    "size = 1_000_000\n",
    "bins = 15\n",
    "\n",
    "name, data = dataset_generator('uniform', 3, size)\n",
    "\n",
    "#data = ([-3.5] * 6)\n",
    "#data.extend([-2.5] * 25)\n",
    "#data.extend([-1.5] * 72)\n",
    "#data.extend([-0.5] * 133)\n",
    "#data.extend([0.5] * 120)\n",
    "#data.extend([1.5] * 88)\n",
    "#data.extend([2.5] * 46)\n",
    "#data.extend([3.5] * 10)\n",
    "\n",
    "#print(data)\n",
    "\n",
    "intervals, lenght = split_into_intervals(data, bins)\n",
    "\n",
    "\n",
    "expected_val, variance, deviation = get_characteristics(intervals)\n",
    "\n",
    "#density_func, k = normal_distribution(expected_val, variance, deviation)\n",
    "#density_func, k = poisson_distribution(expected_val)\n",
    "#density_func, k = exponential_distribution(expected_val)\n",
    "density_func, k = uniform_distribution(expected_val, variance)\n",
    "\n",
    "print(expected_val, variance, deviation, lenght, k)\n",
    "\n",
    "#for interval in intervals:\n",
    "    #pprint(interval[0])\n",
    "    #print(density_func(interval[1]))"
   ]
  },
  {
   "cell_type": "markdown",
   "metadata": {},
   "source": [
    "# Шаг 8"
   ]
  },
  {
   "cell_type": "code",
   "execution_count": 15,
   "metadata": {},
   "outputs": [
    {
     "name": "stdout",
     "output_type": "stream",
     "text": [
      "chi = 3.7360608844512246e-11\n",
      "0.16026110815927114\n",
      "0.9999999999626394\n"
     ]
    }
   ],
   "source": [
    "chi_2, p = pearson(intervals, density_func, k, lenght)\n",
    "\n",
    "print(chi_2)\n",
    "print(p)"
   ]
  },
  {
   "cell_type": "markdown",
   "metadata": {},
   "source": [
    "# Шаг 9"
   ]
  },
  {
   "cell_type": "code",
   "execution_count": 16,
   "metadata": {},
   "outputs": [
    {
     "data": {
      "image/png": "[encoded data removed]",
      "text/plain": [
       "<Figure size 640x480 with 1 Axes>"
      ]
     },
     "metadata": {},
     "output_type": "display_data"
    },
    {
     "name": "stdout",
     "output_type": "stream",
     "text": [
      "0.00255866666666682 1.0\n"
     ]
    }
   ],
   "source": [
    "lmbda, p = kolmogorov_criterion(intervals, density_func, lenght)\n",
    "\n",
    "print(lmbda, p)"
   ]
  },
  {
   "cell_type": "markdown",
   "metadata": {},
   "source": [
    "# Шаг 10"
   ]
  },
  {
   "cell_type": "code",
   "execution_count": 17,
   "metadata": {},
   "outputs": [],
   "source": [
    "def circumcision(values, k):\n",
    "    data = np.array(values)\n",
    "    \n",
    "    q1 = np.percentile(data, 25)\n",
    "    q3 = np.percentile(data, 75)\n",
    "    \n",
    "    iqr = q3 - q1\n",
    "    \n",
    "    lower_bound = q1 - k * iqr\n",
    "    upper_bound = q3 + k * iqr\n",
    "    \n",
    "    filtered_data = [x for x in data if lower_bound <= x <= upper_bound]\n",
    "    \n",
    "    return filtered_data"
   ]
  },
  {
   "cell_type": "markdown",
   "metadata": {},
   "source": [
    "# Шаг 11"
   ]
  },
  {
   "cell_type": "code",
   "execution_count": 18,
   "metadata": {},
   "outputs": [
    {
     "name": "stdout",
     "output_type": "stream",
     "text": [
      "99010\n",
      "chi = 0.00022926162785907604\n",
      "Pirson\n",
      "1.667064078480999\n",
      "0.9997707383721409\n"
     ]
    },
    {
     "data": {
      "image/png": "[encoded data removed]",
      "text/plain": [
       "<Figure size 640x480 with 1 Axes>"
      ]
     },
     "metadata": {},
     "output_type": "display_data"
    },
    {
     "name": "stdout",
     "output_type": "stream",
     "text": [
      "Kolmogorov\n",
      "0.17828421600080646 1.0\n"
     ]
    }
   ],
   "source": [
    "values = pd.read_csv(r\"set_1.csv\", header=None, on_bad_lines='skip').values.tolist()[0]\n",
    "data = circumcision(values, 3.5)\n",
    "size = len(data)\n",
    "print(size)\n",
    "\n",
    "intervals, lenght = split_into_intervals(data, bins)\n",
    "\n",
    "\n",
    "expected_val, variance, deviation = get_characteristics(intervals)\n",
    "\n",
    "#density_func, k = normal_distribution(expected_val, variance, deviation)\n",
    "#density_func, k = poisson_distribution(expected_val)\n",
    "density_func, k = exponential_distribution(expected_val)\n",
    "#density_func, k = uniform_distribution(expected_val, variance)\n",
    "\n",
    "\n",
    "chi_2, p = pearson(intervals, density_func, k, lenght)\n",
    "\n",
    "print('Pirson')\n",
    "print(chi_2)\n",
    "print(p)\n",
    "\n",
    "\n",
    "lmbda, p = kolmogorov_criterion(intervals, density_func, lenght)\n",
    "\n",
    "print('Kolmogorov')\n",
    "print(lmbda, p)"
   ]
  }
 ],
 "metadata": {
  "kernelspec": {
   "display_name": ".venv",
   "language": "python",
   "name": "python3"
  },
  "language_info": {
   "codemirror_mode": {
    "name": "ipython",
    "version": 3
   },
   "file_extension": ".py",
   "mimetype": "text/x-python",
   "name": "python",
   "nbconvert_exporter": "python",
   "pygments_lexer": "ipython3",
   "version": "3.12.3"
  }
 },
 "nbformat": 4,
 "nbformat_minor": 2
}
