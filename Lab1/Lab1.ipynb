{
 "cells": [
  {
   "cell_type": "code",
   "execution_count": 7,
   "metadata": {},
   "outputs": [],
   "source": [
    "import numpy as np\n",
    "import matplotlib.pyplot as plt\n",
    "import pandas as pd\n",
    "from math import comb, factorial, exp"
   ]
  },
  {
   "cell_type": "code",
   "execution_count": null,
   "metadata": {},
   "outputs": [],
   "source": [
    "def load_data(file_path):\n",
    "    try:\n",
    "        data = pd.read_csv(file_path, header=None).squeeze()\n",
    "        return data\n",
    "    except Exception as e:\n",
    "        print(f\"Ошибка при загрузке файла {file_path}: {e}\")\n",
    "        return None\n",
    "\n",
    "file_paths = ['set_1.csv', 'set_2.csv', 'set_3.csv']\n",
    "datasets = [load_data(fp) for fp in file_paths]\n",
    "\n",
    "for i, data in enumerate(datasets):\n",
    "    if data is not None:\n",
    "        print(f\"Набор данных {i+1} успешно загружен. Количество элементов: {len(data)}\")"
   ]
  },
  {
   "cell_type": "code",
   "execution_count": 17,
   "metadata": {},
   "outputs": [
    {
     "name": "stdout",
     "output_type": "stream",
     "text": [
      "Набор данных 1: Математическое ожидание = 2.85, Дисперсия = 3.63\n",
      "Набор данных 2: Математическое ожидание = 19.51, Дисперсия = 6846.98\n",
      "Набор данных 3: Математическое ожидание = 0.11, Дисперсия = 0.01\n"
     ]
    }
   ],
   "source": [
    "def calculate_mean(data):\n",
    "    return np.mean(data)\n",
    "\n",
    "def calculate_variance(data):\n",
    "    return np.var(data)\n",
    "\n",
    "# Расчет параметров для каждого набора данных\n",
    "for i, data in enumerate(datasets):\n",
    "    mean = calculate_mean(data)\n",
    "    variance = calculate_variance(data)\n",
    "    print(f\"Набор данных {i+1}: Математическое ожидание = {mean:.2f}, Дисперсия = {variance:.2f}\")"
   ]
  }
 ],
 "metadata": {
  "kernelspec": {
   "display_name": ".venv",
   "language": "python",
   "name": "python3"
  },
  "language_info": {
   "codemirror_mode": {
    "name": "ipython",
    "version": 3
   },
   "file_extension": ".py",
   "mimetype": "text/x-python",
   "name": "python",
   "nbconvert_exporter": "python",
   "pygments_lexer": "ipython3",
   "version": "3.12.3"
  }
 },
 "nbformat": 4,
 "nbformat_minor": 2
}
