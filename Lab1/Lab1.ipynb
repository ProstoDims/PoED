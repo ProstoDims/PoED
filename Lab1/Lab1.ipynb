{
 "cells": [
  {
   "cell_type": "code",
   "execution_count": 7,
   "metadata": {},
   "outputs": [],
   "source": [
    "import numpy as np\n",
    "import matplotlib.pyplot as plt\n",
    "import pandas as pd\n",
    "from math import comb, factorial, exp"
   ]
  },
  {
   "cell_type": "code",
   "execution_count": null,
   "metadata": {},
   "outputs": [],
   "source": [
    "def load_data(file_path):\n",
    "    try:\n",
    "        data = pd.read_csv(file_path, header=None).squeeze()\n",
    "        return data\n",
    "    except Exception as e:\n",
    "        print(f\"Ошибка при загрузке файла {file_path}: {e}\")\n",
    "        return None\n",
    "\n",
    "file_paths = ['set_1.csv', 'set_2.csv', 'set_3.csv']\n",
    "datasets = [load_data(fp) for fp in file_paths]\n",
    "\n",
    "for i, data in enumerate(datasets):\n",
    "    if data is not None:\n",
    "        print(f\"Набор данных {i+1} успешно загружен. Количество элементов: {len(data)}\")"
   ]
  }
 ],
 "metadata": {
  "kernelspec": {
   "display_name": ".venv",
   "language": "python",
   "name": "python3"
  },
  "language_info": {
   "codemirror_mode": {
    "name": "ipython",
    "version": 3
   },
   "file_extension": ".py",
   "mimetype": "text/x-python",
   "name": "python",
   "nbconvert_exporter": "python",
   "pygments_lexer": "ipython3",
   "version": "3.12.3"
  }
 },
 "nbformat": 4,
 "nbformat_minor": 2
}
